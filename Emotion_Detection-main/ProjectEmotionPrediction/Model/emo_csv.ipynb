{
 "cells": [
  {
   "cell_type": "code",
   "execution_count": null,
   "metadata": {
    "colab": {
     "base_uri": "https://localhost:8080/"
    },
    "id": "NewoUO8JFrdi",
    "outputId": "60c7d9b2-438e-49ca-bf91-aee507d03ae0"
   },
   "outputs": [
    {
     "name": "stdout",
     "output_type": "stream",
     "text": [
      "Mounted at /content/drive\n"
     ]
    }
   ],
   "source": [
    "from google.colab import drive\n",
    "drive.mount('/content/drive')"
   ]
  },
  {
   "cell_type": "code",
   "execution_count": null,
   "metadata": {
    "colab": {
     "base_uri": "https://localhost:8080/"
    },
    "id": "nFYtcJC2F1qX",
    "outputId": "c4358389-25b0-480d-ebc5-a6cab067c36e"
   },
   "outputs": [
    {
     "name": "stderr",
     "output_type": "stream",
     "text": [
      "/usr/local/lib/python3.7/dist-packages/sklearn/externals/six.py:31: FutureWarning: The module is deprecated in version 0.21 and will be removed in version 0.23 since we've dropped support for Python 2.7. Please rely on the official version of six (https://pypi.org/project/six/).\n",
      "  \"(https://pypi.org/project/six/).\", FutureWarning)\n",
      "/usr/local/lib/python3.7/dist-packages/sklearn/utils/deprecation.py:144: FutureWarning: The sklearn.neighbors.base module is  deprecated in version 0.22 and will be removed in version 0.24. The corresponding classes / functions should instead be imported from sklearn.neighbors. Anything that cannot be imported from sklearn.neighbors is now part of the private API.\n",
      "  warnings.warn(message, FutureWarning)\n"
     ]
    }
   ],
   "source": [
    "import pandas as pd\n",
    "from PIL import Image\n",
    "import numpy as np\n",
    "import matplotlib.pyplot as plt\n",
    "import keras\n",
    "from sklearn.model_selection import train_test_split\n",
    "from keras.layers import Conv2D, MaxPool2D, AveragePooling2D, Input, BatchNormalization, MaxPooling2D, Activation, Flatten, Dense, Dropout\n",
    "from keras.models import Model\n",
    "from keras.utils.np_utils import to_categorical\n",
    "from sklearn.metrics import classification_report\n",
    "from imblearn.over_sampling import RandomOverSampler\n",
    "from keras.preprocessing import image\n",
    "import scipy\n",
    "import os\n",
    "import cv2"
   ]
  },
  {
   "cell_type": "code",
   "execution_count": null,
   "metadata": {
    "id": "J1B7_yE_GI6o"
   },
   "outputs": [],
   "source": [
    "data = pd.read_csv('/content/drive/MyDrive/icml_face_data.csv')\n",
    "\n",
    "pixel_data = data[' pixels']\n",
    "label_data = data['emotion']"
   ]
  },
  {
   "cell_type": "code",
   "execution_count": null,
   "metadata": {
    "id": "K4GLmjsiGXna"
   },
   "outputs": [],
   "source": [
    "def preprocess_pixels(pixel_data):\n",
    "  images = []\n",
    "  for i in range(len(pixel_data)):\n",
    "    img = np.fromstring(pixel_data[i], dtype='int', sep=' ')\n",
    "    img = img.reshape(48,48,1)\n",
    "    images.append(img)\n",
    "\n",
    "  X = np.array(images)\n",
    "\n",
    " \n",
    "\n",
    "  return X"
   ]
  },
  {
   "cell_type": "code",
   "execution_count": null,
   "metadata": {
    "colab": {
     "base_uri": "https://localhost:8080/"
    },
    "id": "xzCuUvaoGcqg",
    "outputId": "9c4f18c7-4b4c-40f8-9702-c859a35639b6"
   },
   "outputs": [
    {
     "name": "stderr",
     "output_type": "stream",
     "text": [
      "/usr/local/lib/python3.7/dist-packages/sklearn/utils/deprecation.py:87: FutureWarning: Function safe_indexing is deprecated; safe_indexing is deprecated in version 0.22 and will be removed in version 0.24.\n",
      "  warnings.warn(msg, category=FutureWarning)\n"
     ]
    }
   ],
   "source": [
    "oversampler = RandomOverSampler(sampling_strategy='auto')\n",
    "\n",
    "X_over, Y_over = oversampler.fit_resample(pixel_data.values.reshape(-1,1), label_data)\n",
    "\n",
    "X_over_series = pd.Series(X_over.flatten())"
   ]
  },
  {
   "cell_type": "code",
   "execution_count": null,
   "metadata": {
    "id": "uLbZKVrMGhDc"
   },
   "outputs": [],
   "source": [
    "X = preprocess_pixels(X_over_series)\n",
    "Y = Y_over\n",
    "Y = np.array(Y_over).reshape(Y.shape[0],1)\n",
    "\n",
    "X_train, X_test, Y_train, Y_test = train_test_split(X, Y, test_size = 0.1, random_state = 45)"
   ]
  },
  {
   "cell_type": "code",
   "execution_count": null,
   "metadata": {
    "colab": {
     "base_uri": "https://localhost:8080/"
    },
    "id": "nBV4LtWgGlPk",
    "outputId": "b645dff1-d675-4f9f-e0c6-7f4a52950d21"
   },
   "outputs": [
    {
     "data": {
      "text/plain": [
       "(56630, 48, 48, 1)"
      ]
     },
     "execution_count": 7,
     "metadata": {},
     "output_type": "execute_result"
    }
   ],
   "source": [
    "X_train.shape"
   ]
  },
  {
   "cell_type": "code",
   "execution_count": null,
   "metadata": {
    "colab": {
     "base_uri": "https://localhost:8080/"
    },
    "id": "-1Z--mDPGowy",
    "outputId": "e5562067-3417-4367-ece7-7ac945aa70fd"
   },
   "outputs": [
    {
     "data": {
      "text/plain": [
       "(6293, 48, 48, 1)"
      ]
     },
     "execution_count": 8,
     "metadata": {},
     "output_type": "execute_result"
    }
   ],
   "source": [
    "X_test.shape"
   ]
  },
  {
   "cell_type": "code",
   "execution_count": null,
   "metadata": {
    "colab": {
     "base_uri": "https://localhost:8080/",
     "height": 284
    },
    "id": "9DpFLCeaGrzN",
    "outputId": "2d9c1a1c-1449-462b-8442-6e42f44eefb7"
   },
   "outputs": [
    {
     "data": {
      "text/plain": [
       "<matplotlib.image.AxesImage at 0x7feef5e3ab10>"
      ]
     },
     "execution_count": 9,
     "metadata": {},
     "output_type": "execute_result"
    },
    {
     "data": {
      "image/png": "[encoded data removed]",
      "text/plain": [
       "<Figure size 432x288 with 1 Axes>"
      ]
     },
     "metadata": {
      "needs_background": "light"
     },
     "output_type": "display_data"
    }
   ],
   "source": [
    "plt.imshow(X[0,:,:,0],cmap='gray')"
   ]
  },
  {
   "cell_type": "code",
   "execution_count": null,
   "metadata": {
    "id": "NMbypxbgGwDH"
   },
   "outputs": [],
   "source": [
    "from keras.models import Sequential\n",
    "model = Sequential()\n",
    "model.add(Conv2D(32,(3,3),strides=(1,1), padding='valid',activation='relu',input_shape=(48,48,1)))\n",
    "model.add(BatchNormalization(axis=3))\n",
    "\n",
    "model.add(Conv2D(64,(3,3),strides=(1,1), padding = 'same',activation='relu'))\n",
    "model.add(BatchNormalization(axis=3))\n",
    "model.add(MaxPooling2D(2,2))\n",
    "\n",
    "model.add(Conv2D(64,(3,3),strides=(1,1), padding = 'valid',activation='relu'))\n",
    "model.add(BatchNormalization(axis=3))\n",
    "\n",
    "\n",
    "model.add(Conv2D(128,(3,3),strides=(1,1), padding = 'same',activation='relu'))\n",
    "model.add(BatchNormalization(axis=3))\n",
    "model.add(MaxPooling2D(2,2))\n",
    "\n",
    "model.add(Conv2D(64,(3,3),strides=(1,1), padding = 'valid',activation='relu'))\n",
    "model.add(BatchNormalization(axis=3))\n",
    "model.add(MaxPooling2D(2,2))\n",
    "\n",
    "model.add(Flatten())\n",
    "model.add(Dense(200,activation='relu'))\n",
    "model.add(Dropout(0.6))\n",
    "model.add(Dense(7,activation='softmax'))"
   ]
  },
  {
   "cell_type": "code",
   "execution_count": null,
   "metadata": {
    "colab": {
     "base_uri": "https://localhost:8080/"
    },
    "id": "WB0cCiC4Gzig",
    "outputId": "b669dba8-35d9-4371-f09c-7e6c27814ec0"
   },
   "outputs": [
    {
     "name": "stdout",
     "output_type": "stream",
     "text": [
      "Model: \"sequential\"\n",
      "_________________________________________________________________\n",
      "Layer (type)                 Output Shape              Param #   \n",
      "=================================================================\n",
      "conv2d (Conv2D)              (None, 46, 46, 32)        320       \n",
      "_________________________________________________________________\n",
      "batch_normalization (BatchNo (None, 46, 46, 32)        128       \n",
      "_________________________________________________________________\n",
      "conv2d_1 (Conv2D)            (None, 46, 46, 64)        18496     \n",
      "_________________________________________________________________\n",
      "batch_normalization_1 (Batch (None, 46, 46, 64)        256       \n",
      "_________________________________________________________________\n",
      "max_pooling2d (MaxPooling2D) (None, 23, 23, 64)        0         \n",
      "_________________________________________________________________\n",
      "conv2d_2 (Conv2D)            (None, 21, 21, 64)        36928     \n",
      "_________________________________________________________________\n",
      "batch_normalization_2 (Batch (None, 21, 21, 64)        256       \n",
      "_________________________________________________________________\n",
      "conv2d_3 (Conv2D)            (None, 21, 21, 128)       73856     \n",
      "_________________________________________________________________\n",
      "batch_normalization_3 (Batch (None, 21, 21, 128)       512       \n",
      "_________________________________________________________________\n",
      "max_pooling2d_1 (MaxPooling2 (None, 10, 10, 128)       0         \n",
      "_________________________________________________________________\n",
      "conv2d_4 (Conv2D)            (None, 8, 8, 64)          73792     \n",
      "_________________________________________________________________\n",
      "batch_normalization_4 (Batch (None, 8, 8, 64)          256       \n",
      "_________________________________________________________________\n",
      "max_pooling2d_2 (MaxPooling2 (None, 4, 4, 64)          0         \n",
      "_________________________________________________________________\n",
      "flatten (Flatten)            (None, 1024)              0         \n",
      "_________________________________________________________________\n",
      "dense (Dense)                (None, 200)               205000    \n",
      "_________________________________________________________________\n",
      "dropout (Dropout)            (None, 200)               0         \n",
      "_________________________________________________________________\n",
      "dense_1 (Dense)              (None, 7)                 1407      \n",
      "=================================================================\n",
      "Total params: 411,207\n",
      "Trainable params: 410,503\n",
      "Non-trainable params: 704\n",
      "_________________________________________________________________\n"
     ]
    }
   ],
   "source": [
    "model.summary()"
   ]
  },
  {
   "cell_type": "code",
   "execution_count": null,
   "metadata": {
    "id": "k9uNpYHTG35o"
   },
   "outputs": [],
   "source": [
    "from tensorflow.keras.optimizers import Adam\n",
    "adam = Adam(learning_rate=0.0001)\n",
    "model.compile(optimizer=adam, loss='categorical_crossentropy', metrics=['accuracy'])"
   ]
  },
  {
   "cell_type": "code",
   "execution_count": null,
   "metadata": {
    "id": "nnVFhV0RG76h"
   },
   "outputs": [],
   "source": [
    "y_train = to_categorical(Y_train, num_classes=7)\n",
    "\n",
    "y_test = to_categorical(Y_test, num_classes=7)"
   ]
  },
  {
   "cell_type": "code",
   "execution_count": null,
   "metadata": {
    "colab": {
     "base_uri": "https://localhost:8080/"
    },
    "id": "R6V5zIQ0HFDS",
    "outputId": "968449a3-95d3-4ddb-93e2-178769e0b8fb"
   },
   "outputs": [
    {
     "name": "stdout",
     "output_type": "stream",
     "text": [
      "Epoch 1/40\n",
      "1770/1770 [==============================] - 77s 26ms/step - loss: 1.8891 - accuracy: 0.2857 - val_loss: 1.5114 - val_accuracy: 0.4467\n",
      "Epoch 2/40\n",
      "1770/1770 [==============================] - 46s 26ms/step - loss: 1.4845 - accuracy: 0.4318 - val_loss: 1.2506 - val_accuracy: 0.5279\n",
      "Epoch 3/40\n",
      "1770/1770 [==============================] - 45s 26ms/step - loss: 1.2853 - accuracy: 0.5093 - val_loss: 1.1245 - val_accuracy: 0.5744\n",
      "Epoch 4/40\n",
      "1770/1770 [==============================] - 45s 26ms/step - loss: 1.1512 - accuracy: 0.5592 - val_loss: 1.0452 - val_accuracy: 0.6048\n",
      "Epoch 5/40\n",
      "1770/1770 [==============================] - 46s 26ms/step - loss: 1.0598 - accuracy: 0.5957 - val_loss: 0.9835 - val_accuracy: 0.6352\n",
      "Epoch 6/40\n",
      "1770/1770 [==============================] - 46s 26ms/step - loss: 0.9790 - accuracy: 0.6272 - val_loss: 0.9353 - val_accuracy: 0.6555\n",
      "Epoch 7/40\n",
      "1770/1770 [==============================] - 45s 26ms/step - loss: 0.9076 - accuracy: 0.6530 - val_loss: 0.8882 - val_accuracy: 0.6733\n",
      "Epoch 8/40\n",
      "1770/1770 [==============================] - 45s 26ms/step - loss: 0.8392 - accuracy: 0.6824 - val_loss: 0.8393 - val_accuracy: 0.6906\n",
      "Epoch 9/40\n",
      "1770/1770 [==============================] - 46s 26ms/step - loss: 0.7849 - accuracy: 0.7034 - val_loss: 0.8251 - val_accuracy: 0.7024\n",
      "Epoch 10/40\n",
      "1770/1770 [==============================] - 46s 26ms/step - loss: 0.7223 - accuracy: 0.7308 - val_loss: 0.7841 - val_accuracy: 0.7249\n",
      "Epoch 11/40\n",
      "1770/1770 [==============================] - 45s 26ms/step - loss: 0.6646 - accuracy: 0.7532 - val_loss: 0.7579 - val_accuracy: 0.7410\n",
      "Epoch 12/40\n",
      "1770/1770 [==============================] - 45s 26ms/step - loss: 0.6140 - accuracy: 0.7730 - val_loss: 0.7426 - val_accuracy: 0.7475\n",
      "Epoch 13/40\n",
      "1770/1770 [==============================] - 45s 26ms/step - loss: 0.5674 - accuracy: 0.7905 - val_loss: 0.7253 - val_accuracy: 0.7554\n",
      "Epoch 14/40\n",
      "1770/1770 [==============================] - 45s 26ms/step - loss: 0.5232 - accuracy: 0.8088 - val_loss: 0.7342 - val_accuracy: 0.7656\n",
      "Epoch 15/40\n",
      "1770/1770 [==============================] - 46s 26ms/step - loss: 0.4846 - accuracy: 0.8238 - val_loss: 0.7256 - val_accuracy: 0.7710\n",
      "Epoch 16/40\n",
      "1770/1770 [==============================] - 46s 26ms/step - loss: 0.4492 - accuracy: 0.8355 - val_loss: 0.7223 - val_accuracy: 0.7742\n",
      "Epoch 17/40\n",
      "1770/1770 [==============================] - 45s 26ms/step - loss: 0.4098 - accuracy: 0.8505 - val_loss: 0.7295 - val_accuracy: 0.7804\n",
      "Epoch 18/40\n",
      "1770/1770 [==============================] - 45s 26ms/step - loss: 0.3848 - accuracy: 0.8590 - val_loss: 0.7279 - val_accuracy: 0.7910\n",
      "Epoch 19/40\n",
      "1770/1770 [==============================] - 46s 26ms/step - loss: 0.3558 - accuracy: 0.8707 - val_loss: 0.7381 - val_accuracy: 0.7899\n",
      "Epoch 20/40\n",
      "1770/1770 [==============================] - 46s 26ms/step - loss: 0.3287 - accuracy: 0.8801 - val_loss: 0.7370 - val_accuracy: 0.7958\n",
      "Epoch 21/40\n",
      "1770/1770 [==============================] - 46s 26ms/step - loss: 0.3105 - accuracy: 0.8869 - val_loss: 0.7160 - val_accuracy: 0.8033\n",
      "Epoch 22/40\n",
      "1770/1770 [==============================] - 45s 26ms/step - loss: 0.2900 - accuracy: 0.8958 - val_loss: 0.7562 - val_accuracy: 0.8033\n",
      "Epoch 23/40\n",
      "1770/1770 [==============================] - 45s 26ms/step - loss: 0.2670 - accuracy: 0.9036 - val_loss: 0.8073 - val_accuracy: 0.7955\n",
      "Epoch 24/40\n",
      "1770/1770 [==============================] - 45s 26ms/step - loss: 0.2496 - accuracy: 0.9113 - val_loss: 0.7730 - val_accuracy: 0.8101\n",
      "Epoch 25/40\n",
      "1770/1770 [==============================] - 45s 26ms/step - loss: 0.2343 - accuracy: 0.9159 - val_loss: 0.7960 - val_accuracy: 0.8154\n",
      "Epoch 26/40\n",
      "1770/1770 [==============================] - 45s 26ms/step - loss: 0.2212 - accuracy: 0.9213 - val_loss: 0.8456 - val_accuracy: 0.8088\n",
      "Epoch 27/40\n",
      "1770/1770 [==============================] - 46s 26ms/step - loss: 0.2109 - accuracy: 0.9246 - val_loss: 0.8424 - val_accuracy: 0.8171\n",
      "Epoch 28/40\n",
      "1770/1770 [==============================] - 45s 26ms/step - loss: 0.1961 - accuracy: 0.9299 - val_loss: 0.8405 - val_accuracy: 0.8168\n",
      "Epoch 29/40\n",
      "1770/1770 [==============================] - 46s 26ms/step - loss: 0.1902 - accuracy: 0.9328 - val_loss: 0.8970 - val_accuracy: 0.8103\n",
      "Epoch 30/40\n",
      "1770/1770 [==============================] - 45s 26ms/step - loss: 0.1823 - accuracy: 0.9353 - val_loss: 0.9077 - val_accuracy: 0.8185\n",
      "Epoch 31/40\n",
      "1770/1770 [==============================] - 46s 26ms/step - loss: 0.1722 - accuracy: 0.9384 - val_loss: 0.8949 - val_accuracy: 0.8187\n",
      "Epoch 32/40\n",
      "1770/1770 [==============================] - 46s 26ms/step - loss: 0.1681 - accuracy: 0.9409 - val_loss: 0.9228 - val_accuracy: 0.8192\n",
      "Epoch 33/40\n",
      "1770/1770 [==============================] - 46s 26ms/step - loss: 0.1546 - accuracy: 0.9456 - val_loss: 0.9312 - val_accuracy: 0.8235\n",
      "Epoch 34/40\n",
      "1770/1770 [==============================] - 46s 26ms/step - loss: 0.1496 - accuracy: 0.9476 - val_loss: 0.9577 - val_accuracy: 0.8176\n",
      "Epoch 35/40\n",
      "1770/1770 [==============================] - 46s 26ms/step - loss: 0.1468 - accuracy: 0.9493 - val_loss: 0.9822 - val_accuracy: 0.8206\n",
      "Epoch 36/40\n",
      "1770/1770 [==============================] - 46s 26ms/step - loss: 0.1423 - accuracy: 0.9507 - val_loss: 0.9900 - val_accuracy: 0.8173\n",
      "Epoch 37/40\n",
      "1770/1770 [==============================] - 46s 26ms/step - loss: 0.1396 - accuracy: 0.9512 - val_loss: 0.9415 - val_accuracy: 0.8222\n",
      "Epoch 38/40\n",
      "1770/1770 [==============================] - 46s 26ms/step - loss: 0.1302 - accuracy: 0.9539 - val_loss: 1.0231 - val_accuracy: 0.8214\n",
      "Epoch 39/40\n",
      "1770/1770 [==============================] - 46s 26ms/step - loss: 0.1304 - accuracy: 0.9559 - val_loss: 0.9781 - val_accuracy: 0.8274\n",
      "Epoch 40/40\n",
      "1770/1770 [==============================] - 46s 26ms/step - loss: 0.1227 - accuracy: 0.9568 - val_loss: 1.0634 - val_accuracy: 0.8201\n"
     ]
    },
    {
     "data": {
      "text/plain": [
       "<keras.callbacks.History at 0x7fee7d3597d0>"
      ]
     },
     "execution_count": 15,
     "metadata": {},
     "output_type": "execute_result"
    }
   ],
   "source": [
    "model.fit(X_train,y_train,epochs=40,validation_data=(X_test,y_test))"
   ]
  },
  {
   "cell_type": "code",
   "execution_count": null,
   "metadata": {
    "id": "7kOGpPiGHKfu"
   },
   "outputs": [],
   "source": [
    "import tensorflow as tf\n"
   ]
  },
  {
   "cell_type": "code",
   "execution_count": null,
   "metadata": {
    "id": "k1jUOXgWO16h"
   },
   "outputs": [],
   "source": [
    "tf.keras.models.save_model(model,'model_csv.h5')"
   ]
  },
  {
   "cell_type": "code",
   "execution_count": null,
   "metadata": {
    "id": "Um9RVGSUPHrG"
   },
   "outputs": [],
   "source": []
  }
 ],
 "metadata": {
  "accelerator": "GPU",
  "colab": {
   "name": "emo_csv.ipynb",
   "provenance": []
  },
  "kernelspec": {
   "display_name": "Python 3",
   "language": "python",
   "name": "python3"
  },
  "language_info": {
   "codemirror_mode": {
    "name": "ipython",
    "version": 3
   },
   "file_extension": ".py",
   "mimetype": "text/x-python",
   "name": "python",
   "nbconvert_exporter": "python",
   "pygments_lexer": "ipython3",
   "version": "3.6.13"
  }
 },
 "nbformat": 4,
 "nbformat_minor": 1
}
